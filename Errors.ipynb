{
 "cells": [
  {
   "cell_type": "markdown",
   "id": "46f7c21f",
   "metadata": {},
   "source": [
    "# Index Error"
   ]
  },
  {
   "cell_type": "code",
   "execution_count": 2,
   "id": "09fe8b50",
   "metadata": {},
   "outputs": [
    {
     "data": {
      "text/plain": [
       "967"
      ]
     },
     "execution_count": 2,
     "metadata": {},
     "output_type": "execute_result"
    }
   ],
   "source": [
    "mylist=[14, \"hello\", 967]\n",
    "\n",
    "mylist[2]\n",
    "\n",
    "#There is an invalid index."
   ]
  },
  {
   "cell_type": "markdown",
   "id": "2b0a1316",
   "metadata": {},
   "source": [
    "# syntax Error"
   ]
  },
  {
   "cell_type": "code",
   "execution_count": 4,
   "id": "ad56b082",
   "metadata": {},
   "outputs": [
    {
     "name": "stdout",
     "output_type": "stream",
     "text": [
      "python errors\n"
     ]
    }
   ],
   "source": [
    "print(\"python errors\")\n",
    "\n",
    "#Missing parentheses in call to 'print'"
   ]
  },
  {
   "attachments": {},
   "cell_type": "markdown",
   "id": "a471492f",
   "metadata": {},
   "source": [
    "# key error"
   ]
  },
  {
   "cell_type": "code",
   "execution_count": 5,
   "id": "d42eb52c",
   "metadata": {},
   "outputs": [
    {
     "data": {
      "text/plain": [
       "'hello'"
      ]
     },
     "execution_count": 5,
     "metadata": {},
     "output_type": "execute_result"
    }
   ],
   "source": [
    "mydictionnary={True:\"hello\",False:\"bye\", '3':\"python\"}\n",
    "\n",
    "mydictionnary[True] \n",
    "\n",
    "#the keys must be of an immutable data type"
   ]
  },
  {
   "cell_type": "markdown",
   "id": "22321f2d",
   "metadata": {},
   "source": [
    "# indentation error"
   ]
  },
  {
   "cell_type": "code",
   "execution_count": 34,
   "id": "de5ee2c7",
   "metadata": {},
   "outputs": [
    {
     "name": "stdout",
     "output_type": "stream",
     "text": [
      "14\n",
      "15\n",
      "16\n",
      "17\n",
      "18\n",
      "19\n"
     ]
    }
   ],
   "source": [
    "i=14\n",
    "\n",
    "while i < 20:\n",
    "    \n",
    "  print(i)\n",
    "\n",
    "  i+=1\n",
    "    \n",
    "#expected an indented block"
   ]
  },
  {
   "cell_type": "markdown",
   "id": "316835d0",
   "metadata": {},
   "source": [
    "# StopIteration"
   ]
  },
  {
   "cell_type": "code",
   "execution_count": 15,
   "id": "bdd3f95e",
   "metadata": {},
   "outputs": [
    {
     "data": {
      "text/plain": [
       "3"
      ]
     },
     "execution_count": 15,
     "metadata": {},
     "output_type": "execute_result"
    }
   ],
   "source": [
    "it=iter([1,2,3])\n",
    "\n",
    "next(it)\n",
    "next(it)\n",
    "next(it)\n",
    "\n",
    "#we tried to get the next item when no next item was available."
   ]
  },
  {
   "cell_type": "markdown",
   "id": "a3f318b8",
   "metadata": {},
   "source": [
    "# TypeError\n"
   ]
  },
  {
   "cell_type": "code",
   "execution_count": 18,
   "id": "c34cc011",
   "metadata": {},
   "outputs": [
    {
     "name": "stdout",
     "output_type": "stream",
     "text": [
      "30\n"
     ]
    }
   ],
   "source": [
    "integer = 15\n",
    "\n",
    "integer = 15\n",
    "\n",
    "print(integer + string )\n",
    "\n",
    "#Cannot add numbers and strings, must convert numbers to strings or vice versa when operating on them."
   ]
  },
  {
   "cell_type": "markdown",
   "id": "5f2223b3",
   "metadata": {},
   "source": [
    "# ValueError"
   ]
  },
  {
   "cell_type": "code",
   "execution_count": 26,
   "id": "cb528c14",
   "metadata": {},
   "outputs": [
    {
     "data": {
      "text/plain": [
       "'python'"
      ]
     },
     "execution_count": 26,
     "metadata": {},
     "output_type": "execute_result"
    }
   ],
   "source": [
    "str('python')\n",
    "\n",
    "#the value is not a number is a txt, so we must change the function from int to str."
   ]
  },
  {
   "cell_type": "markdown",
   "id": "42857742",
   "metadata": {},
   "source": [
    "# NameError"
   ]
  },
  {
   "cell_type": "code",
   "execution_count": 27,
   "id": "f058dec2",
   "metadata": {},
   "outputs": [
    {
     "name": "stdout",
     "output_type": "stream",
     "text": [
      "python\n"
     ]
    }
   ],
   "source": [
    "x=\"python\"\n",
    "\n",
    "print(x)\n",
    "\n",
    "#python is not defined."
   ]
  },
  {
   "cell_type": "markdown",
   "id": "e50b4cdd",
   "metadata": {},
   "source": [
    "# ZeroDivisionError"
   ]
  },
  {
   "cell_type": "code",
   "execution_count": 25,
   "id": "4a405ddf",
   "metadata": {},
   "outputs": [
    {
     "name": "stdout",
     "output_type": "stream",
     "text": [
      "4.75\n"
     ]
    }
   ],
   "source": [
    "x=19/4\n",
    "\n",
    "print(x)\n",
    "\n",
    "# division cant be with a zero "
   ]
  },
  {
   "cell_type": "code",
   "execution_count": null,
   "id": "f10cd0f8",
   "metadata": {},
   "outputs": [],
   "source": []
  }
 ],
 "metadata": {
  "kernelspec": {
   "display_name": "Python 3 (ipykernel)",
   "language": "python",
   "name": "python3"
  },
  "language_info": {
   "codemirror_mode": {
    "name": "ipython",
    "version": 3
   },
   "file_extension": ".py",
   "mimetype": "text/x-python",
   "name": "python",
   "nbconvert_exporter": "python",
   "pygments_lexer": "ipython3",
   "version": "3.9.12"
  }
 },
 "nbformat": 4,
 "nbformat_minor": 5
}
