{
 "cells": [
  {
   "cell_type": "markdown",
   "id": "4d5ce647",
   "metadata": {},
   "source": [
    "1-Write a Python program to read an entire text file."
   ]
  },
  {
   "cell_type": "code",
   "execution_count": 39,
   "id": "c64f7658",
   "metadata": {},
   "outputs": [
    {
     "name": "stdout",
     "output_type": "stream",
     "text": [
      "What is Python language?                                                \n",
      "Python is a widely used high-level, general-purpose, interpreted, dynamic programming language.Its design philosophy emphasizes code readability, and its syntax allows programmers to express concepts in fewer lines of code than possible in \n",
      "languages such as C++ or Java. \n",
      "Python supports multiple programming paradigms, including object-oriented, imperative and functional programming or procedural styles. It features a dynamic type system and automatic memory management and has a large and comprehensive standard library.The best way we learn anything is by practice and exercise questions. We  have started this section for those (beginner to intermediate) who are familiar with Python.\n"
     ]
    }
   ],
   "source": [
    "f = open(\"pp.txt\",'r')\n",
    "data = f.read()\n",
    "        \n",
    "print(data)\n",
    "\n"
   ]
  },
  {
   "cell_type": "markdown",
   "id": "5dec61f2",
   "metadata": {},
   "source": [
    "2-Write a Python program to read the first n lines of a file."
   ]
  },
  {
   "cell_type": "code",
   "execution_count": 43,
   "id": "2513a544",
   "metadata": {},
   "outputs": [
    {
     "name": "stdout",
     "output_type": "stream",
     "text": [
      "What is Python language?                                                \n",
      "\n"
     ]
    }
   ],
   "source": [
    "f = open(\"pp.txt\")\n",
    "number_of_lines = 1\n",
    "for i in range(1):\n",
    "    line = f.readline()\n",
    "    print(line)"
   ]
  },
  {
   "cell_type": "markdown",
   "id": "abf1d2ce",
   "metadata": {},
   "source": [
    "3-Write a Python program to read the last n lines of a file."
   ]
  },
  {
   "cell_type": "code",
   "execution_count": 98,
   "id": "db4c7bf6",
   "metadata": {},
   "outputs": [
    {
     "name": "stdout",
     "output_type": "stream",
     "text": [
      "Python supports multiple programming paradigms, including object-oriented, imperative and functional programming or procedural styles. It features a dynamic type system and automatic memory management and has a large and comprehensive standard library.The best way we learn anything is by practice and exercise questions. We  have started this section for those (beginner to intermediate) who are familiar with Python.\n"
     ]
    }
   ],
   "source": [
    "with open(\"pp.txt\", \"r\") as file:\n",
    "        last_line = file.readlines()[-1]\n",
    "        print(last_line)"
   ]
  },
  {
   "cell_type": "markdown",
   "id": "9d34c857",
   "metadata": {},
   "source": [
    "4-Write a Python program that takes a text file as input and returns the number of words of a given text file."
   ]
  },
  {
   "cell_type": "code",
   "execution_count": 100,
   "id": "1eeef39d",
   "metadata": {},
   "outputs": [
    {
     "name": "stdout",
     "output_type": "stream",
     "text": [
      "Enter file name: pp.txt\n",
      "Number of words:\n",
      "100\n"
     ]
    }
   ],
   "source": [
    "fname = input(\"Enter file name: \")\n",
    " \n",
    "num_words = 0\n",
    " \n",
    "with open(\"pp.txt\", 'r') as f:\n",
    "    for line in f:\n",
    "        words = line.split()\n",
    "        num_words += len(words)\n",
    "print(\"Number of words:\")\n",
    "print(num_words)"
   ]
  },
  {
   "cell_type": "code",
   "execution_count": null,
   "id": "70e5e470",
   "metadata": {},
   "outputs": [],
   "source": []
  }
 ],
 "metadata": {
  "kernelspec": {
   "display_name": "Python 3 (ipykernel)",
   "language": "python",
   "name": "python3"
  },
  "language_info": {
   "codemirror_mode": {
    "name": "ipython",
    "version": 3
   },
   "file_extension": ".py",
   "mimetype": "text/x-python",
   "name": "python",
   "nbconvert_exporter": "python",
   "pygments_lexer": "ipython3",
   "version": "3.9.12"
  }
 },
 "nbformat": 4,
 "nbformat_minor": 5
}
