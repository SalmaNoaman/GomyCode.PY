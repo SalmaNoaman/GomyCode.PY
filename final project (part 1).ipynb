{
 "cells": [
  {
   "cell_type": "markdown",
   "id": "c3e97e3d",
   "metadata": {},
   "source": [
    "# FLAMES GAME  FINAL PROJECT (p1)"
   ]
  },
  {
   "cell_type": "code",
   "execution_count": 3,
   "id": "25f4dcac",
   "metadata": {},
   "outputs": [],
   "source": [
    "def remove_match_char(list1, list2):\n",
    "\n",
    "    for i in range(len(list1)):\n",
    "        for j in range(len(list2)):\n",
    "\n",
    "\n",
    "            if list1[i] == list2[j]:\n",
    "                c = list1[i]\n",
    "\n",
    "                list1.remove(c)\n",
    "                list2.remove(c)\n",
    "\n",
    "\n",
    "                list3 = list1 + [\"*\"] + list2\n",
    "\n",
    "                return [list3, True]\n",
    "\n",
    "\n",
    "    list3 = list1 + [\"*\"] + list2\n",
    "    return [list3, False]"
   ]
  },
  {
   "cell_type": "code",
   "execution_count": null,
   "id": "6f7fa92f",
   "metadata": {},
   "outputs": [],
   "source": []
  }
 ],
 "metadata": {
  "kernelspec": {
   "display_name": "Python 3 (ipykernel)",
   "language": "python",
   "name": "python3"
  },
  "language_info": {
   "codemirror_mode": {
    "name": "ipython",
    "version": 3
   },
   "file_extension": ".py",
   "mimetype": "text/x-python",
   "name": "python",
   "nbconvert_exporter": "python",
   "pygments_lexer": "ipython3",
   "version": "3.9.12"
  }
 },
 "nbformat": 4,
 "nbformat_minor": 5
}
