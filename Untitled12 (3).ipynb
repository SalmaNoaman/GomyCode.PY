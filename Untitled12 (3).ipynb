{
 "cells": [
  {
   "cell_type": "code",
   "execution_count": 3,
   "id": "9eeb34b5",
   "metadata": {},
   "outputs": [
    {
     "name": "stdout",
     "output_type": "stream",
     "text": [
      "20\n",
      "35\n",
      "19\n",
      "35\n"
     ]
    }
   ],
   "source": [
    "a=int(input())\n",
    "\n",
    "b=int(input())\n",
    "\n",
    "c=int(input())\n",
    "\n",
    "def maxi():\n",
    "\n",
    "    if(a>=b) and (a>=c):\n",
    "\n",
    "        x =a\n",
    "\n",
    "    elif(b>=a) and (b>=c):\n",
    "\n",
    "         x =b\n",
    "\n",
    "    else:\n",
    "\n",
    "         x =c\n",
    "\n",
    "    print(x)\n",
    "\n",
    "maxi()"
   ]
  },
  {
   "cell_type": "code",
   "execution_count": 14,
   "id": "62465cbf",
   "metadata": {},
   "outputs": [
    {
     "name": "stdout",
     "output_type": "stream",
     "text": [
      "40\n",
      "10\n",
      "(50, 30)\n"
     ]
    }
   ],
   "source": [
    "n1=int(input())\n",
    "n2=int(input())\n",
    "\n",
    "def calculation(n1, n2):\n",
    "    add = n1 + n2\n",
    "    subt = n1 - n2\n",
    "\n",
    "    return add, subt\n",
    "\n",
    "res = calculation(n1,n2 )\n",
    "print(res)"
   ]
  },
  {
   "cell_type": "code",
   "execution_count": 15,
   "id": "3757bdfd",
   "metadata": {},
   "outputs": [
    {
     "name": "stdout",
     "output_type": "stream",
     "text": [
      "Sum of all elements in given list:  74\n"
     ]
    }
   ],
   "source": [
    "list1 = [11, 5, 17, 18, 23]\n",
    " \n",
    "\n",
    "total = sum(list1)\n",
    " \n",
    "\n",
    "print(total)\n",
    "\n",
    "\n",
    "\n"
   ]
  },
  {
   "cell_type": "code",
   "execution_count": 9,
   "id": "ae7d8c0d",
   "metadata": {},
   "outputs": [
    {
     "name": "stdout",
     "output_type": "stream",
     "text": [
      "green-red-yellow-black-white\n",
      "black-green-red-white-yellow\n"
     ]
    }
   ],
   "source": [
    "n=input() \n",
    "list1=n.split('-') \n",
    "list1.sort() \n",
    "print('-'.join(l)) "
   ]
  },
  {
   "cell_type": "code",
   "execution_count": 17,
   "id": "07f2567d",
   "metadata": {},
   "outputs": [
    {
     "name": "stdout",
     "output_type": "stream",
     "text": [
      "50,30\n",
      "[13, 10]\n"
     ]
    }
   ],
   "source": [
    "import math\n",
    "\n",
    "numbers = input()\n",
    "numbers = numbers.split(',')\n",
    "\n",
    "result_list = []\n",
    "for D in numbers:\n",
    "    Q = round(math.sqrt(2 * 50 * int(D) / 30))\n",
    "    result_list.append(Q)\n",
    "\n",
    "print(result_list)"
   ]
  },
  {
   "cell_type": "code",
   "execution_count": null,
   "id": "296eaa4d",
   "metadata": {},
   "outputs": [],
   "source": []
  }
 ],
 "metadata": {
  "kernelspec": {
   "display_name": "Python 3 (ipykernel)",
   "language": "python",
   "name": "python3"
  },
  "language_info": {
   "codemirror_mode": {
    "name": "ipython",
    "version": 3
   },
   "file_extension": ".py",
   "mimetype": "text/x-python",
   "name": "python",
   "nbconvert_exporter": "python",
   "pygments_lexer": "ipython3",
   "version": "3.9.12"
  }
 },
 "nbformat": 4,
 "nbformat_minor": 5
}
