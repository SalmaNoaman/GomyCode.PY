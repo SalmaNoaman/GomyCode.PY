{
 "cells": [
  {
   "cell_type": "code",
   "execution_count": 8,
   "id": "82470082",
   "metadata": {},
   "outputs": [
    {
     "name": "stdout",
     "output_type": "stream",
     "text": [
      "36\n"
     ]
    }
   ],
   "source": [
    "my_list = [2, 3, 6]\n",
    "\n",
    "result= 1\n",
    "\n",
    "for i in my_list :\n",
    "    result= result * i\n",
    "    \n",
    "print(result)"
   ]
  },
  {
   "cell_type": "code",
   "execution_count": 37,
   "id": "b8057888",
   "metadata": {
    "scrolled": true
   },
   "outputs": [
    {
     "data": {
      "text/plain": [
       "[(2, 1), (1, 2), (2, 3), (4, 4), (2, 5)]"
      ]
     },
     "execution_count": 37,
     "metadata": {},
     "output_type": "execute_result"
    }
   ],
   "source": [
    "a=[(2, 5), (1, 2), (4, 4), (2, 3), (2, 1)]\n",
    "\n",
    "def mylist(a):\n",
    "    \n",
    "    return a[-1]\n",
    "\n",
    "sorted([(2, 5), (1, 2), (4, 4), (2, 3), (2, 1)], key= mylist)\n"
   ]
  },
  {
   "cell_type": "code",
   "execution_count": 48,
   "id": "82add897",
   "metadata": {},
   "outputs": [
    {
     "name": "stdout",
     "output_type": "stream",
     "text": [
      "{'a': 400, 'b': 400, 'c': 300, 'd': 400}\n"
     ]
    }
   ],
   "source": [
    "dict1 = {'a': 100, 'b': 200, 'c':300}\n",
    "dict2 = {'a': 300, 'b': 200, 'd':400}\n",
    "dict3 = {} \n",
    "\n",
    "for x in dict1:\n",
    "    \n",
    "    if x in dict2: \n",
    "        dict3[x] = dict1[x] +dict2[x]\n",
    "    else: \n",
    "        dict3[x] = dict1[x]\n",
    "        \n",
    "\n",
    "for x in dict2:\n",
    "    if x not in dict1:\n",
    "        dict3[x] = dict2[x]\n",
    "        \n",
    "print(dict3) "
   ]
  },
  {
   "cell_type": "code",
   "execution_count": 62,
   "id": "46800dfb",
   "metadata": {},
   "outputs": [
    {
     "name": "stdout",
     "output_type": "stream",
     "text": [
      "enter a number 8\n",
      "{1: 1, 2: 4, 3: 9, 4: 16, 5: 25, 6: 36, 7: 49, 8: 64}\n"
     ]
    }
   ],
   "source": [
    "n=int(input(\"enter a number \"))\n",
    "\n",
    "d = dict()\n",
    "\n",
    "for x in range(1,n+1):\n",
    "    \n",
    "    d[x]=x*x\n",
    "\n",
    "print(d)"
   ]
  },
  {
   "cell_type": "code",
   "execution_count": 67,
   "id": "b4e80148",
   "metadata": {},
   "outputs": [
    {
     "name": "stdout",
     "output_type": "stream",
     "text": [
      "(('item3', '24.5'), ('item2', '15.10'), ('item1', '12.20'))\n"
     ]
    }
   ],
   "source": [
    "tup =  [('item1', '12.20'), ('item2', '15.10'), ('item3', '24.5')] \n",
    "\n",
    "x = tuple(sorted(tup, reverse=True))  \n",
    "\n",
    "print(x) "
   ]
  }
 ],
 "metadata": {
  "kernelspec": {
   "display_name": "Python 3 (ipykernel)",
   "language": "python",
   "name": "python3"
  },
  "language_info": {
   "codemirror_mode": {
    "name": "ipython",
    "version": 3
   },
   "file_extension": ".py",
   "mimetype": "text/x-python",
   "name": "python",
   "nbconvert_exporter": "python",
   "pygments_lexer": "ipython3",
   "version": "3.9.12"
  }
 },
 "nbformat": 4,
 "nbformat_minor": 5
}
