{
 "cells": [
  {
   "cell_type": "markdown",
   "id": "2c8b3a15",
   "metadata": {},
   "source": [
    "# Countdown Timer Final project"
   ]
  },
  {
   "cell_type": "code",
   "execution_count": 8,
   "id": "d56ca296",
   "metadata": {},
   "outputs": [
    {
     "name": "stdout",
     "output_type": "stream",
     "text": [
      "Enter the time in seconds: 1\n",
      "Fire in the hole\n"
     ]
    }
   ],
   "source": [
    "import time\n",
    "import datetime\n",
    " \n",
    "def countdown(s):\n",
    " \n",
    "    total_seconds =s\n",
    " \n",
    "    while total_seconds > 0:\n",
    " \n",
    "        timer = datetime.timedelta(seconds = total_seconds)\n",
    "        \n",
    "        print(timer, end=\"\\r\")\n",
    " \n",
    "        time.sleep(1)\n",
    " \n",
    "        total_seconds -= 1\n",
    " \n",
    "    print(\"Fire in the hole\")\n",
    "    \n",
    "s = input(\"Enter the time in seconds: \")\n",
    "\n",
    "countdown(int(s))"
   ]
  },
  {
   "cell_type": "code",
   "execution_count": null,
   "id": "c6a9609a",
   "metadata": {},
   "outputs": [],
   "source": []
  }
 ],
 "metadata": {
  "kernelspec": {
   "display_name": "Python 3 (ipykernel)",
   "language": "python",
   "name": "python3"
  },
  "language_info": {
   "codemirror_mode": {
    "name": "ipython",
    "version": 3
   },
   "file_extension": ".py",
   "mimetype": "text/x-python",
   "name": "python",
   "nbconvert_exporter": "python",
   "pygments_lexer": "ipython3",
   "version": "3.9.12"
  }
 },
 "nbformat": 4,
 "nbformat_minor": 5
}
