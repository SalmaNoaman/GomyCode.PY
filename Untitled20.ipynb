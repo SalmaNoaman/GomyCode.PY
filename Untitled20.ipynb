{
 "cells": [
  {
   "cell_type": "code",
   "execution_count": 1,
   "id": "7bb29b7a",
   "metadata": {},
   "outputs": [
    {
     "name": "stdout",
     "output_type": "stream",
     "text": [
      "(1, 2, 3)\n"
     ]
    }
   ],
   "source": [
    "class Point3D(object):\n",
    "\n",
    "    def __init__ (self, x, y, z):\n",
    "\n",
    "        self.x =x\n",
    "        self.y =y\n",
    "        self.z =z\n",
    "    \n",
    "\n",
    "    def print1(self): \n",
    "        return  (self.x, self.y, self.z)\n",
    "    \n",
    "my_point = Point3D(1,2,3)\n",
    "\n",
    "print (my_point.print1())\n"
   ]
  },
  {
   "cell_type": "code",
   "execution_count": 2,
   "id": "5780dbd6",
   "metadata": {},
   "outputs": [
    {
     "name": "stdout",
     "output_type": "stream",
     "text": [
      "12\n",
      "14\n"
     ]
    }
   ],
   "source": [
    "class Rectangle(object):\n",
    "    def __init__(self, l, w):\n",
    "        self.length = l\n",
    "        self.width  = w\n",
    "\n",
    "    def rectangle_area(self):\n",
    "        return self.length*self.width\n",
    "    \n",
    "    def rectangle_perimeter(self):\n",
    "        return 2*(self.length+self.width)\n",
    "\n",
    "newRectangle = Rectangle(3, 4)\n",
    "print(newRectangle.rectangle_area())\n",
    "print(newRectangle.rectangle_perimeter())"
   ]
  },
  {
   "cell_type": "code",
   "execution_count": 3,
   "id": "82f54826",
   "metadata": {},
   "outputs": [
    {
     "name": "stdout",
     "output_type": "stream",
     "text": [
      "50.24\n",
      "25.12\n"
     ]
    }
   ],
   "source": [
    "class Circle():\n",
    "    def __init__(self, o, r):\n",
    "        self.radius = r\n",
    "        self.center = o\n",
    "\n",
    "    def area(self):\n",
    "        return self.radius**2*3.14\n",
    "    \n",
    "    \n",
    "    def perimeter(self):\n",
    "        return 2*self.radius*3.14\n",
    "    \n",
    "    \n",
    "        \n",
    "\n",
    "NewCircle = Circle((1,6),4)\n",
    "print(NewCircle.area())\n",
    "print(NewCircle.perimeter())"
   ]
  },
  {
   "cell_type": "code",
   "execution_count": 17,
   "id": "2431a3e6",
   "metadata": {},
   "outputs": [
    {
     "name": "stdout",
     "output_type": "stream",
     "text": [
      "\n",
      "Enter amount to be deposited: 200\n",
      "200.0\n",
      "Enter amount to withdraw: 122\n",
      "You withdraw:  122.0\n"
     ]
    }
   ],
   "source": [
    "class Bank:\n",
    "    def __init__(self):\n",
    "        self.balance=0\n",
    "        print()\n",
    "        \n",
    "    def deposit(self):\n",
    "        amount=float(input(\"Enter amount to be deposited: \"))\n",
    "        self.balance += amount\n",
    "        print(amount)\n",
    "    def withdraw(self):\n",
    "        amount = float(input(\"Enter amount to withdraw: \"))\n",
    "        if self.balance>=amount:\n",
    "            self.balance-=amount\n",
    "            print(\"You withdraw: \",amount)\n",
    "        else:\n",
    "            print(\"Insufficient balance \")\n",
    "    def display(self):\n",
    "        print(self.balance)\n",
    "\n",
    "s = Bank()\n",
    "\n",
    "s.deposit()\n",
    "s.withdraw()"
   ]
  },
  {
   "cell_type": "code",
   "execution_count": null,
   "id": "eb09983c",
   "metadata": {},
   "outputs": [],
   "source": []
  }
 ],
 "metadata": {
  "kernelspec": {
   "display_name": "Python 3 (ipykernel)",
   "language": "python",
   "name": "python3"
  },
  "language_info": {
   "codemirror_mode": {
    "name": "ipython",
    "version": 3
   },
   "file_extension": ".py",
   "mimetype": "text/x-python",
   "name": "python",
   "nbconvert_exporter": "python",
   "pygments_lexer": "ipython3",
   "version": "3.9.12"
  }
 },
 "nbformat": 4,
 "nbformat_minor": 5
}
